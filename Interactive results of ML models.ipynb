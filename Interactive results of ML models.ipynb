{
 "cells": [
  {
   "cell_type": "code",
   "execution_count": 2,
   "id": "352e990e",
   "metadata": {},
   "outputs": [],
   "source": [
    "from sklearn.pipeline import make_pipeline\n",
    "from category_encoders import OneHotEncoder\n",
    "from sklearn.linear_model import LinearRegression\n",
    "from sklearn.metrics import mean_absolute_error"
   ]
  },
  {
   "cell_type": "code",
   "execution_count": null,
   "id": "187cca0c",
   "metadata": {},
   "outputs": [],
   "source": [
    "df = pd.read_csv('insurance.csv')"
   ]
  },
  {
   "cell_type": "code",
   "execution_count": null,
   "id": "9aad61e9",
   "metadata": {},
   "outputs": [],
   "source": [
    "prr"
   ]
  },
  {
   "cell_type": "code",
   "execution_count": 3,
   "id": "601a0c0f",
   "metadata": {},
   "outputs": [],
   "source": [
    "# %building model pipeline\n",
    "\n",
    "model = make_pipeline(\n",
    "    OneHotEncoder(use_cat_names=True),\n",
    "    LinearRegression()\n",
    ")"
   ]
  },
  {
   "cell_type": "code",
   "execution_count": null,
   "id": "62ae7fd8",
   "metadata": {},
   "outputs": [],
   "source": [
    "X = df.drop(columns='charges')\n",
    "y = df['charges']"
   ]
  },
  {
   "cell_type": "code",
   "execution_count": null,
   "id": "a32b4e76",
   "metadata": {},
   "outputs": [],
   "source": [
    "# Slittin into Train & test\n",
    "X_train, X_test, y_train, y_test = train_test_split(X, y, test_size=0.2, random_state=0)"
   ]
  },
  {
   "cell_type": "code",
   "execution_count": null,
   "id": "80121a52",
   "metadata": {},
   "outputs": [],
   "source": [
    "# Checking if the data is splitted properly\n",
    "print(f'X_train',X_train.shape)  #Printing the X_train Features Shape\n",
    "print(f'y_train',y_train.shape)  #Printing the y_train Labels Shape\n",
    "print(f'X_test',X_test.shape)    #Printing the X_test Features Shape\n",
    "print(f'y_test',y_test.shape)    #Printing the y_test Labels  Shape"
   ]
  },
  {
   "cell_type": "code",
   "execution_count": 4,
   "id": "fc9dc0ff",
   "metadata": {},
   "outputs": [
    {
     "ename": "NameError",
     "evalue": "name 'X' is not defined",
     "output_type": "error",
     "traceback": [
      "\u001b[0;31m---------------------------------------------------------------------------\u001b[0m",
      "\u001b[0;31mNameError\u001b[0m                                 Traceback (most recent call last)",
      "Cell \u001b[0;32mIn[4], line 3\u001b[0m\n\u001b[1;32m      1\u001b[0m \u001b[38;5;66;03m# % training model to forecast medical costs\u001b[39;00m\n\u001b[0;32m----> 3\u001b[0m model\u001b[38;5;241m.\u001b[39mfit(X,target)\n",
      "\u001b[0;31mNameError\u001b[0m: name 'X' is not defined"
     ]
    }
   ],
   "source": [
    "# % training model to forecast medical costs\n",
    "\n",
    "model.fit(X,target)"
   ]
  },
  {
   "cell_type": "code",
   "execution_count": null,
   "id": "bb736159",
   "metadata": {},
   "outputs": [],
   "source": [
    "# evaluating model\n",
    "\n",
    "y_pred_training = model.predict(X)\n",
    "print(\"Training MAE:\", mean_absolute_error(target,y_pred_training))"
   ]
  },
  {
   "cell_type": "code",
   "execution_count": null,
   "id": "cacb2339",
   "metadata": {},
   "outputs": [],
   "source": [
    "# %import ipywidgests \n",
    "import ipywidgets as widgets "
   ]
  },
  {
   "cell_type": "code",
   "execution_count": null,
   "id": "e936864d",
   "metadata": {},
   "outputs": [],
   "source": [
    "def make_prediction(age, gender, bmi, children, smoker):\n",
    "    \"\"\"\n",
    "        Function to perform predictions of (medical costs)insurance charges depending on:\n",
    "        1. age - age of primary beneficiary\n",
    "        2. sex - insurance contractor gender, female, male\n",
    "        3. bmi - Body mass index (kg / m ^ 2) using the ratio of height to weight, ideally 18.5 to 24.9\n",
    "        4. children - Number of children covered by health insurance / Number of dependents\n",
    "        5. smoker - smoking or not\n",
    "    \"\"\"\n",
    "    df = pd.DataFrame({\"age\":age,\"sex\":gender,\"bmi\":bmi,\"children\":children, \"smoker\":smoker},index=[0])\n",
    "    prediction = model.predict(df).round(2)[0]\n",
    "    return f\"Predicted total insurance cost: ${prediction}\""
   ]
  },
  {
   "cell_type": "code",
   "execution_count": null,
   "id": "a7539b3d",
   "metadata": {},
   "outputs": [],
   "source": [
    "make_prediction(39,\"male\", 20, 3, \"yes\")\n",
    "# outputs\n",
    "# 'Predicted total insurance cost: $29564.47'"
   ]
  },
  {
   "cell_type": "code",
   "execution_count": null,
   "id": "8348a76d",
   "metadata": {},
   "outputs": [],
   "source": [
    "widgets.interact(\n",
    "                make_prediction,\n",
    "    \n",
    "                age=IntSlider(\n",
    "                    min=X[\"age\"].min(),\n",
    "                    max=X[\"age\"].max(),\n",
    "                    value=X[\"age\"].mean(),\n",
    "                ),\n",
    "    \n",
    "                gender = widgets.Dropdown(options=sorted(X[\"sex\"].unique())),\n",
    "\n",
    "                bmi= widgets.FloatSlider(\n",
    "                    min=X[\"bmi\"].min(),\n",
    "                    max=X[\"bmi\"].max(),\n",
    "                    step=0.01,\n",
    "                    value=X[\"bmi\"].mean(),\n",
    "                ),\n",
    "\n",
    "                children=  widgets.IntSlider(\n",
    "                    min =X[\"children\"].min(),\n",
    "                    max =X[\"children\"].max(),\n",
    "                    value=X[\"children\"].mean(),\n",
    "                ),\n",
    "\n",
    "                smoker= widgets.Dropdown(options=sorted(X[\"smoker\"].unique())),\n",
    "            );"
   ]
  },
  {
   "cell_type": "code",
   "execution_count": null,
   "id": "c76cc807",
   "metadata": {},
   "outputs": [],
   "source": []
  },
  {
   "cell_type": "code",
   "execution_count": null,
   "id": "ec37a1d7",
   "metadata": {},
   "outputs": [],
   "source": []
  },
  {
   "cell_type": "code",
   "execution_count": null,
   "id": "30175856",
   "metadata": {},
   "outputs": [],
   "source": []
  },
  {
   "cell_type": "code",
   "execution_count": null,
   "id": "1c6c8e13",
   "metadata": {},
   "outputs": [],
   "source": []
  },
  {
   "cell_type": "code",
   "execution_count": null,
   "id": "00559eba",
   "metadata": {},
   "outputs": [],
   "source": []
  }
 ],
 "metadata": {
  "kernelspec": {
   "display_name": "Python 3 (ipykernel)",
   "language": "python",
   "name": "python3"
  },
  "language_info": {
   "codemirror_mode": {
    "name": "ipython",
    "version": 3
   },
   "file_extension": ".py",
   "mimetype": "text/x-python",
   "name": "python",
   "nbconvert_exporter": "python",
   "pygments_lexer": "ipython3",
   "version": "3.9.6"
  }
 },
 "nbformat": 4,
 "nbformat_minor": 5
}
