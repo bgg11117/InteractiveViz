{
 "cells": [
  {
   "cell_type": "code",
   "execution_count": 19,
   "id": "38dbb50e",
   "metadata": {},
   "outputs": [],
   "source": [
    "import numpy as np # linear algebra\n",
    "import pandas as pd # data processing, CSV file I/O (e.g. pd.read_csv)\n",
    "import matplotlib.pyplot as plt\n",
    "\n",
    "from sklearn.pipeline import make_pipeline\n",
    "from category_encoders import OneHotEncoder\n",
    "from sklearn.model_selection import train_test_split\n",
    "from sklearn.linear_model import LinearRegression\n",
    "from lightgbm import LGBMRegressor\n",
    "from sklearn.metrics import mean_absolute_error"
   ]
  },
  {
   "cell_type": "code",
   "execution_count": 2,
   "id": "d2ac7771",
   "metadata": {},
   "outputs": [],
   "source": [
    "%matplotlib notebook"
   ]
  },
  {
   "cell_type": "markdown",
   "id": "a63bf80b",
   "metadata": {},
   "source": [
    "- ref from [Interactive results with jupyter notebooks](https://blog.neurotech.africa/interactive-results-with-jupyter-notebooks/)"
   ]
  },
  {
   "cell_type": "code",
   "execution_count": 3,
   "id": "3e18dd79",
   "metadata": {},
   "outputs": [],
   "source": [
    "df = pd.read_csv('insurance.csv')"
   ]
  },
  {
   "cell_type": "code",
   "execution_count": 4,
   "id": "61018ff7",
   "metadata": {},
   "outputs": [
    {
     "name": "stdout",
     "output_type": "stream",
     "text": [
      "(1338, 7)\n"
     ]
    },
    {
     "data": {
      "text/html": [
       "<div>\n",
       "<style scoped>\n",
       "    .dataframe tbody tr th:only-of-type {\n",
       "        vertical-align: middle;\n",
       "    }\n",
       "\n",
       "    .dataframe tbody tr th {\n",
       "        vertical-align: top;\n",
       "    }\n",
       "\n",
       "    .dataframe thead th {\n",
       "        text-align: right;\n",
       "    }\n",
       "</style>\n",
       "<table border=\"1\" class=\"dataframe\">\n",
       "  <thead>\n",
       "    <tr style=\"text-align: right;\">\n",
       "      <th></th>\n",
       "      <th>age</th>\n",
       "      <th>sex</th>\n",
       "      <th>bmi</th>\n",
       "      <th>children</th>\n",
       "      <th>smoker</th>\n",
       "      <th>region</th>\n",
       "      <th>charges</th>\n",
       "    </tr>\n",
       "  </thead>\n",
       "  <tbody>\n",
       "    <tr>\n",
       "      <th>0</th>\n",
       "      <td>19</td>\n",
       "      <td>female</td>\n",
       "      <td>27.900</td>\n",
       "      <td>0</td>\n",
       "      <td>yes</td>\n",
       "      <td>southwest</td>\n",
       "      <td>16884.92400</td>\n",
       "    </tr>\n",
       "    <tr>\n",
       "      <th>1</th>\n",
       "      <td>18</td>\n",
       "      <td>male</td>\n",
       "      <td>33.770</td>\n",
       "      <td>1</td>\n",
       "      <td>no</td>\n",
       "      <td>southeast</td>\n",
       "      <td>1725.55230</td>\n",
       "    </tr>\n",
       "    <tr>\n",
       "      <th>2</th>\n",
       "      <td>28</td>\n",
       "      <td>male</td>\n",
       "      <td>33.000</td>\n",
       "      <td>3</td>\n",
       "      <td>no</td>\n",
       "      <td>southeast</td>\n",
       "      <td>4449.46200</td>\n",
       "    </tr>\n",
       "    <tr>\n",
       "      <th>3</th>\n",
       "      <td>33</td>\n",
       "      <td>male</td>\n",
       "      <td>22.705</td>\n",
       "      <td>0</td>\n",
       "      <td>no</td>\n",
       "      <td>northwest</td>\n",
       "      <td>21984.47061</td>\n",
       "    </tr>\n",
       "    <tr>\n",
       "      <th>4</th>\n",
       "      <td>32</td>\n",
       "      <td>male</td>\n",
       "      <td>28.880</td>\n",
       "      <td>0</td>\n",
       "      <td>no</td>\n",
       "      <td>northwest</td>\n",
       "      <td>3866.85520</td>\n",
       "    </tr>\n",
       "  </tbody>\n",
       "</table>\n",
       "</div>"
      ],
      "text/plain": [
       "   age     sex     bmi  children smoker     region      charges\n",
       "0   19  female  27.900         0    yes  southwest  16884.92400\n",
       "1   18    male  33.770         1     no  southeast   1725.55230\n",
       "2   28    male  33.000         3     no  southeast   4449.46200\n",
       "3   33    male  22.705         0     no  northwest  21984.47061\n",
       "4   32    male  28.880         0     no  northwest   3866.85520"
      ]
     },
     "execution_count": 4,
     "metadata": {},
     "output_type": "execute_result"
    }
   ],
   "source": [
    "print (df.shape)\n",
    "df.head()"
   ]
  },
  {
   "cell_type": "code",
   "execution_count": 33,
   "id": "5667a7c4",
   "metadata": {},
   "outputs": [],
   "source": [
    "# %building model pipeline\n",
    "\n",
    "model = make_pipeline(\n",
    "    OneHotEncoder(use_cat_names=True),\n",
    "    LGBMRegressor()\n",
    "#     LinearRegression()\n",
    ")"
   ]
  },
  {
   "cell_type": "code",
   "execution_count": 34,
   "id": "9c474854",
   "metadata": {},
   "outputs": [],
   "source": [
    "X = df.drop(columns=['region', 'charges'])\n",
    "y = df['charges']"
   ]
  },
  {
   "cell_type": "code",
   "execution_count": 35,
   "id": "ae097caa",
   "metadata": {},
   "outputs": [],
   "source": [
    "# Slittin into Train & test\n",
    "X_train, X_test, y_train, y_test = train_test_split(X, y, test_size=0.2, random_state=0)"
   ]
  },
  {
   "cell_type": "code",
   "execution_count": 36,
   "id": "0d2f1c91",
   "metadata": {},
   "outputs": [
    {
     "name": "stdout",
     "output_type": "stream",
     "text": [
      "X_train (1070, 5)\n",
      "y_train (1070,)\n",
      "X_test (268, 5)\n",
      "y_test (268,)\n"
     ]
    }
   ],
   "source": [
    "# Checking if the data is splitted properly\n",
    "print(f'X_train',X_train.shape)  #Printing the X_train Features Shape\n",
    "print(f'y_train',y_train.shape)  #Printing the y_train Labels Shape\n",
    "print(f'X_test',X_test.shape)    #Printing the X_test Features Shape\n",
    "print(f'y_test',y_test.shape)    #Printing the y_test Labels  Shape"
   ]
  },
  {
   "cell_type": "code",
   "execution_count": 37,
   "id": "1aa49fe7",
   "metadata": {},
   "outputs": [
    {
     "data": {
      "text/html": [
       "<style>#sk-container-id-4 {color: black;background-color: white;}#sk-container-id-4 pre{padding: 0;}#sk-container-id-4 div.sk-toggleable {background-color: white;}#sk-container-id-4 label.sk-toggleable__label {cursor: pointer;display: block;width: 100%;margin-bottom: 0;padding: 0.3em;box-sizing: border-box;text-align: center;}#sk-container-id-4 label.sk-toggleable__label-arrow:before {content: \"▸\";float: left;margin-right: 0.25em;color: #696969;}#sk-container-id-4 label.sk-toggleable__label-arrow:hover:before {color: black;}#sk-container-id-4 div.sk-estimator:hover label.sk-toggleable__label-arrow:before {color: black;}#sk-container-id-4 div.sk-toggleable__content {max-height: 0;max-width: 0;overflow: hidden;text-align: left;background-color: #f0f8ff;}#sk-container-id-4 div.sk-toggleable__content pre {margin: 0.2em;color: black;border-radius: 0.25em;background-color: #f0f8ff;}#sk-container-id-4 input.sk-toggleable__control:checked~div.sk-toggleable__content {max-height: 200px;max-width: 100%;overflow: auto;}#sk-container-id-4 input.sk-toggleable__control:checked~label.sk-toggleable__label-arrow:before {content: \"▾\";}#sk-container-id-4 div.sk-estimator input.sk-toggleable__control:checked~label.sk-toggleable__label {background-color: #d4ebff;}#sk-container-id-4 div.sk-label input.sk-toggleable__control:checked~label.sk-toggleable__label {background-color: #d4ebff;}#sk-container-id-4 input.sk-hidden--visually {border: 0;clip: rect(1px 1px 1px 1px);clip: rect(1px, 1px, 1px, 1px);height: 1px;margin: -1px;overflow: hidden;padding: 0;position: absolute;width: 1px;}#sk-container-id-4 div.sk-estimator {font-family: monospace;background-color: #f0f8ff;border: 1px dotted black;border-radius: 0.25em;box-sizing: border-box;margin-bottom: 0.5em;}#sk-container-id-4 div.sk-estimator:hover {background-color: #d4ebff;}#sk-container-id-4 div.sk-parallel-item::after {content: \"\";width: 100%;border-bottom: 1px solid gray;flex-grow: 1;}#sk-container-id-4 div.sk-label:hover label.sk-toggleable__label {background-color: #d4ebff;}#sk-container-id-4 div.sk-serial::before {content: \"\";position: absolute;border-left: 1px solid gray;box-sizing: border-box;top: 0;bottom: 0;left: 50%;z-index: 0;}#sk-container-id-4 div.sk-serial {display: flex;flex-direction: column;align-items: center;background-color: white;padding-right: 0.2em;padding-left: 0.2em;position: relative;}#sk-container-id-4 div.sk-item {position: relative;z-index: 1;}#sk-container-id-4 div.sk-parallel {display: flex;align-items: stretch;justify-content: center;background-color: white;position: relative;}#sk-container-id-4 div.sk-item::before, #sk-container-id-4 div.sk-parallel-item::before {content: \"\";position: absolute;border-left: 1px solid gray;box-sizing: border-box;top: 0;bottom: 0;left: 50%;z-index: -1;}#sk-container-id-4 div.sk-parallel-item {display: flex;flex-direction: column;z-index: 1;position: relative;background-color: white;}#sk-container-id-4 div.sk-parallel-item:first-child::after {align-self: flex-end;width: 50%;}#sk-container-id-4 div.sk-parallel-item:last-child::after {align-self: flex-start;width: 50%;}#sk-container-id-4 div.sk-parallel-item:only-child::after {width: 0;}#sk-container-id-4 div.sk-dashed-wrapped {border: 1px dashed gray;margin: 0 0.4em 0.5em 0.4em;box-sizing: border-box;padding-bottom: 0.4em;background-color: white;}#sk-container-id-4 div.sk-label label {font-family: monospace;font-weight: bold;display: inline-block;line-height: 1.2em;}#sk-container-id-4 div.sk-label-container {text-align: center;}#sk-container-id-4 div.sk-container {/* jupyter's `normalize.less` sets `[hidden] { display: none; }` but bootstrap.min.css set `[hidden] { display: none !important; }` so we also need the `!important` here to be able to override the default hidden behavior on the sphinx rendered scikit-learn.org. See: https://github.com/scikit-learn/scikit-learn/issues/21755 */display: inline-block !important;position: relative;}#sk-container-id-4 div.sk-text-repr-fallback {display: none;}</style><div id=\"sk-container-id-4\" class=\"sk-top-container\"><div class=\"sk-text-repr-fallback\"><pre>Pipeline(steps=[(&#x27;onehotencoder&#x27;,\n",
       "                 OneHotEncoder(cols=[&#x27;sex&#x27;, &#x27;smoker&#x27;], use_cat_names=True)),\n",
       "                (&#x27;lgbmregressor&#x27;, LGBMRegressor())])</pre><b>In a Jupyter environment, please rerun this cell to show the HTML representation or trust the notebook. <br />On GitHub, the HTML representation is unable to render, please try loading this page with nbviewer.org.</b></div><div class=\"sk-container\" hidden><div class=\"sk-item sk-dashed-wrapped\"><div class=\"sk-label-container\"><div class=\"sk-label sk-toggleable\"><input class=\"sk-toggleable__control sk-hidden--visually\" id=\"sk-estimator-id-10\" type=\"checkbox\" ><label for=\"sk-estimator-id-10\" class=\"sk-toggleable__label sk-toggleable__label-arrow\">Pipeline</label><div class=\"sk-toggleable__content\"><pre>Pipeline(steps=[(&#x27;onehotencoder&#x27;,\n",
       "                 OneHotEncoder(cols=[&#x27;sex&#x27;, &#x27;smoker&#x27;], use_cat_names=True)),\n",
       "                (&#x27;lgbmregressor&#x27;, LGBMRegressor())])</pre></div></div></div><div class=\"sk-serial\"><div class=\"sk-item\"><div class=\"sk-estimator sk-toggleable\"><input class=\"sk-toggleable__control sk-hidden--visually\" id=\"sk-estimator-id-11\" type=\"checkbox\" ><label for=\"sk-estimator-id-11\" class=\"sk-toggleable__label sk-toggleable__label-arrow\">OneHotEncoder</label><div class=\"sk-toggleable__content\"><pre>OneHotEncoder(cols=[&#x27;sex&#x27;, &#x27;smoker&#x27;], use_cat_names=True)</pre></div></div></div><div class=\"sk-item\"><div class=\"sk-estimator sk-toggleable\"><input class=\"sk-toggleable__control sk-hidden--visually\" id=\"sk-estimator-id-12\" type=\"checkbox\" ><label for=\"sk-estimator-id-12\" class=\"sk-toggleable__label sk-toggleable__label-arrow\">LGBMRegressor</label><div class=\"sk-toggleable__content\"><pre>LGBMRegressor()</pre></div></div></div></div></div></div></div>"
      ],
      "text/plain": [
       "Pipeline(steps=[('onehotencoder',\n",
       "                 OneHotEncoder(cols=['sex', 'smoker'], use_cat_names=True)),\n",
       "                ('lgbmregressor', LGBMRegressor())])"
      ]
     },
     "execution_count": 37,
     "metadata": {},
     "output_type": "execute_result"
    }
   ],
   "source": [
    "# # % training model to forecast medical costs\n",
    "\n",
    "# model.fit(X,target)\n",
    "model.fit(X_train,y_train)"
   ]
  },
  {
   "cell_type": "code",
   "execution_count": 38,
   "id": "6cdfc91d",
   "metadata": {},
   "outputs": [
    {
     "name": "stdout",
     "output_type": "stream",
     "text": [
      "Training MAE: 1891.4203513009877\n"
     ]
    }
   ],
   "source": [
    "# # evaluating model\n",
    "\n",
    "# y_pred_training = model.predict(X)\n",
    "# print(\"Training MAE:\", mean_absolute_error(target,y_pred_training))\n",
    "y_train_pred = model.predict(X_train)\n",
    "print(\"Training MAE:\", mean_absolute_error(y_train,y_train_pred))"
   ]
  },
  {
   "cell_type": "code",
   "execution_count": 39,
   "id": "151e781d",
   "metadata": {},
   "outputs": [],
   "source": [
    "# %import ipywidgests \n",
    "import ipywidgets as widgets "
   ]
  },
  {
   "cell_type": "markdown",
   "id": "b4359518",
   "metadata": {},
   "source": [
    "### Widget 1"
   ]
  },
  {
   "cell_type": "code",
   "execution_count": 40,
   "id": "e61c01fe",
   "metadata": {},
   "outputs": [],
   "source": [
    "def make_prediction(age, gender, bmi, children, smoker):\n",
    "    \"\"\"\n",
    "        Function to perform predictions of (medical costs)insurance charges depending on:\n",
    "        1. age - age of primary beneficiary\n",
    "        2. sex - insurance contractor gender, female, male\n",
    "        3. bmi - Body mass index (kg / m ^ 2) using the ratio of height to weight, ideally 18.5 to 24.9\n",
    "        4. children - Number of children covered by health insurance / Number of dependents\n",
    "        5. smoker - smoking or not\n",
    "    \"\"\"\n",
    "    df = pd.DataFrame({\"age\":age,\"sex\":gender,\"bmi\":bmi,\"children\":children, \"smoker\":smoker},index=[0])\n",
    "    prediction = model.predict(df).round(2)[0]\n",
    "    return f\"Predicted total insurance cost: ${prediction}\""
   ]
  },
  {
   "cell_type": "code",
   "execution_count": 41,
   "id": "693dfa15",
   "metadata": {},
   "outputs": [
    {
     "data": {
      "text/plain": [
       "'Predicted total insurance cost: $17676.13'"
      ]
     },
     "execution_count": 41,
     "metadata": {},
     "output_type": "execute_result"
    }
   ],
   "source": [
    "make_prediction(39,\"male\", 20, 3, \"yes\")\n",
    "# outputs\n",
    "# 'Predicted total insurance cost: $29564.47'"
   ]
  },
  {
   "cell_type": "code",
   "execution_count": 42,
   "id": "c9c7dbb3",
   "metadata": {},
   "outputs": [
    {
     "data": {
      "application/vnd.jupyter.widget-view+json": {
       "model_id": "2ded5c94383d42b28631ade78f34f321",
       "version_major": 2,
       "version_minor": 0
      },
      "text/plain": [
       "interactive(children=(IntSlider(value=39, description='age', max=64, min=18), Dropdown(description='gender', o…"
      ]
     },
     "metadata": {},
     "output_type": "display_data"
    }
   ],
   "source": [
    "widgets.interact(\n",
    "                make_prediction,\n",
    "                age=widgets.IntSlider(\n",
    "                    min=X[\"age\"].min(),\n",
    "                    max=X[\"age\"].max(),\n",
    "                    value=X[\"age\"].mean(),\n",
    "                ),\n",
    "    \n",
    "                gender=widgets.Dropdown(options=sorted(X[\"sex\"].unique())),\n",
    "\n",
    "                bmi=widgets.FloatSlider(\n",
    "                    min=X[\"bmi\"].min(),\n",
    "                    max=X[\"bmi\"].max(),\n",
    "                    step=0.01,\n",
    "                    value=X[\"bmi\"].mean(),\n",
    "                ),\n",
    "\n",
    "                children=widgets.IntSlider(\n",
    "                    min=X[\"children\"].min(),\n",
    "                    max=X[\"children\"].max(),\n",
    "                    value=X[\"children\"].mean(),\n",
    "                ),\n",
    "\n",
    "                smoker=widgets.Dropdown(options=sorted(X[\"smoker\"].unique())),\n",
    "            );"
   ]
  },
  {
   "cell_type": "markdown",
   "id": "5ad238c8",
   "metadata": {},
   "source": [
    "### Widget 2"
   ]
  },
  {
   "cell_type": "code",
   "execution_count": 43,
   "id": "563941d8",
   "metadata": {},
   "outputs": [],
   "source": [
    "features = X.columns.tolist()\n",
    "num_features = X.select_dtypes(exclude=[\"object\"]).columns.tolist()\n",
    "# features"
   ]
  },
  {
   "cell_type": "code",
   "execution_count": 45,
   "id": "64bbd206",
   "metadata": {},
   "outputs": [],
   "source": [
    "def make_prediction_plot(test_tag, age, bmi, children, sex='male', smoker='yes'):\n",
    "    \"\"\"\n",
    "        Function to perform predictions of (medical costs)insurance charges depending on:\n",
    "        1. age - age of primary beneficiary\n",
    "        2. sex - insurance contractor gender, female, male\n",
    "        3. bmi - Body mass index (kg / m ^ 2) using the ratio of height to weight, ideally 18.5 to 24.9\n",
    "        4. children - Number of children covered by health insurance / Number of dependents\n",
    "        5. smoker - smoking or not\n",
    "    \"\"\"\n",
    "    df = pd.DataFrame()\n",
    "    for tag in num_features:\n",
    "        df[tag] = [X[num_features].mean()]    \n",
    "   \n",
    "    num_points = 150\n",
    "    tag = test_tag\n",
    "\n",
    "    if test_tag == 'age':\n",
    "        tag_start = 5\n",
    "    elif test_tag =='bmi':\n",
    "        tag_start= 10\n",
    "    else:\n",
    "        tag_start = X[tag].quantile(0.03)\n",
    "\n",
    "        \n",
    "    if test_tag == 'age':\n",
    "        tag_stop = 120        \n",
    "    elif test_tag == 'bmi':\n",
    "        tag_stop = 50\n",
    "    else:\n",
    "        tag_stop = X[tag].quantile(0.97)\n",
    "\n",
    "    tag_name = 'Test tag'\n",
    "    \n",
    "    sens_df = pd.concat([df.copy()] * num_points, ignore_index=False)\n",
    "    sens_input_ranges = list(np.linspace(start=tag_start, stop=tag_stop, num=num_points))\n",
    "    sens_df[tag] = sens_input_ranges.copy()\n",
    "    \n",
    "    # Get values from sliders:\n",
    "    if test_tag != 'age':\n",
    "        sens_df['age'] = age\n",
    "    if test_tag != 'bmi':\n",
    "        sens_df['bmi'] = bmi\n",
    "    if test_tag != 'children':\n",
    "        sens_df['children'] = children\n",
    "    if test_tag != 'sex':\n",
    "        sens_df['sex'] = sex\n",
    "    if test_tag != 'smoker':\n",
    "        sens_df['smoker'] = smoker\n",
    "        \n",
    "#     sens_df['DUL_norm'] = sens_df['DUL']/height\n",
    "    \n",
    "    prediction = model.predict(sens_df[features])\n",
    "    df_res = pd.DataFrame()\n",
    "    df_res['tag'] = sens_df[tag]\n",
    "    df_res['target'] = prediction\n",
    "\n",
    "    fig, ax = plt.subplots()\n",
    "    ax.scatter(df_res['tag'], df_res['target'])\n",
    "    ax.set_xlabel('{}'.format(test_tag))\n",
    "    ax.set_ylabel('insurance cost')\n",
    "    ax.set_title('Insurance cost simulation')      \n",
    "    plt.show()"
   ]
  },
  {
   "cell_type": "code",
   "execution_count": 50,
   "id": "708cb7f4",
   "metadata": {},
   "outputs": [
    {
     "data": {
      "application/vnd.jupyter.widget-view+json": {
       "model_id": "16fe14516f184b8384747fc4fdf0fbfb",
       "version_major": 2,
       "version_minor": 0
      },
      "text/plain": [
       "interactive(children=(Dropdown(description='Test tag:', index=1, options=('age', 'bmi', 'children', 'sex', 'sm…"
      ]
     },
     "metadata": {},
     "output_type": "display_data"
    }
   ],
   "source": [
    "widgets.interact(\n",
    "         make_prediction_plot, \n",
    "         test_tag=widgets.Dropdown(options=[\n",
    "                                     'age', 'bmi', 'children', 'sex', 'smoker',\n",
    "                                           ],\n",
    "                               value='bmi',\n",
    "                               description='Test tag:'\n",
    "                             ),\n",
    "         age=widgets.FloatSlider(min=1, max=120, step=1, value=30, description='Age'),\n",
    "         bmi=widgets.FloatSlider(min=5, max=50, step=1, value=25, description='Bmi'),\n",
    "         children=widgets.FloatSlider(min=1, max=100, step=1, value=10, description='Children'),\n",
    "         sex=widgets.Dropdown(options=sorted(X[\"sex\"].unique()), description='Sex'),\n",
    "         smoker=widgets.Dropdown(options=sorted(X[\"smoker\"].unique()), description='Smoker')\n",
    "        );"
   ]
  },
  {
   "cell_type": "code",
   "execution_count": null,
   "id": "7a143672",
   "metadata": {},
   "outputs": [],
   "source": []
  },
  {
   "cell_type": "code",
   "execution_count": null,
   "id": "2e41e826",
   "metadata": {},
   "outputs": [],
   "source": []
  }
 ],
 "metadata": {
  "kernelspec": {
   "display_name": "Python 3 (ipykernel)",
   "language": "python",
   "name": "python3"
  },
  "language_info": {
   "codemirror_mode": {
    "name": "ipython",
    "version": 3
   },
   "file_extension": ".py",
   "mimetype": "text/x-python",
   "name": "python",
   "nbconvert_exporter": "python",
   "pygments_lexer": "ipython3",
   "version": "3.9.6"
  }
 },
 "nbformat": 4,
 "nbformat_minor": 5
}
